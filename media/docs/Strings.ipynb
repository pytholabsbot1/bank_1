{
 "cells": [
  {
   "cell_type": "markdown",
   "metadata": {},
   "source": [
    "# Strings\n",
    "\n",
    "1. To define: \n",
    "\n",
    "''\n",
    "\"\"\n",
    "''' '''\n",
    "\"\"\" \"\"\"\n",
    "\n",
    "\n",
    "2. Ordered ? Y\n",
    "3. Mutable ? N\n",
    "4. Heterogenous "
   ]
  },
  {
   "cell_type": "code",
   "execution_count": 1,
   "metadata": {},
   "outputs": [],
   "source": [
    "s = 'hi'"
   ]
  },
  {
   "cell_type": "code",
   "execution_count": 2,
   "metadata": {},
   "outputs": [],
   "source": [
    "s2 = \"child's\""
   ]
  },
  {
   "cell_type": "code",
   "execution_count": 17,
   "metadata": {},
   "outputs": [
    {
     "name": "stdout",
     "output_type": "stream",
     "text": [
      "child\"s\n"
     ]
    }
   ],
   "source": [
    "# convert ' into escape character\n",
    "\n",
    "s3  = 'child\\\"s'\n",
    "print(s3)"
   ]
  },
  {
   "cell_type": "code",
   "execution_count": 6,
   "metadata": {},
   "outputs": [
    {
     "data": {
      "text/plain": [
       "str"
      ]
     },
     "execution_count": 6,
     "metadata": {},
     "output_type": "execute_result"
    }
   ],
   "source": [
    "type(s)"
   ]
  },
  {
   "cell_type": "code",
   "execution_count": 7,
   "metadata": {},
   "outputs": [
    {
     "ename": "SyntaxError",
     "evalue": "EOL while scanning string literal (<ipython-input-7-b0bcf61194c1>, line 1)",
     "output_type": "error",
     "traceback": [
      "\u001b[0;36m  File \u001b[0;32m\"<ipython-input-7-b0bcf61194c1>\"\u001b[0;36m, line \u001b[0;32m1\u001b[0m\n\u001b[0;31m    p = 'asjfhjsdf\u001b[0m\n\u001b[0m                  ^\u001b[0m\n\u001b[0;31mSyntaxError\u001b[0m\u001b[0;31m:\u001b[0m EOL while scanning string literal\n"
     ]
    }
   ],
   "source": [
    "p = 'asjfhjsdf\n",
    "sdmfhksjdfh\n",
    "sdmkhfk\n",
    "sdfhksjdhfksdlsjdhfkjsdhfjk\n",
    "sdjfhgsjdhfgjhsgfjhsgfj'"
   ]
  },
  {
   "cell_type": "code",
   "execution_count": 8,
   "metadata": {},
   "outputs": [],
   "source": [
    "p = '''asjfhjsdf\n",
    "sdmfhksjdfh\n",
    "sdmkhfk\n",
    "sdfhksjdhfksdlsjdhfkjsdhfjk\n",
    "sdjfhgsjdhfgjhsgfjhsgfj'''"
   ]
  },
  {
   "cell_type": "code",
   "execution_count": 9,
   "metadata": {},
   "outputs": [
    {
     "data": {
      "text/plain": [
       "'asjfhjsdf\\nsdmfhksjdfh\\nsdmkhfk\\nsdfhksjdhfksdlsjdhfkjsdhfjk\\nsdjfhgsjdhfgjhsgfjhsgfj'"
      ]
     },
     "execution_count": 9,
     "metadata": {},
     "output_type": "execute_result"
    }
   ],
   "source": [
    "p"
   ]
  },
  {
   "cell_type": "code",
   "execution_count": 12,
   "metadata": {},
   "outputs": [
    {
     "name": "stdout",
     "output_type": "stream",
     "text": [
      "hello man\n"
     ]
    }
   ],
   "source": [
    "c = 'hello man'\n",
    "print(c)"
   ]
  },
  {
   "cell_type": "code",
   "execution_count": 13,
   "metadata": {},
   "outputs": [
    {
     "data": {
      "text/plain": [
       "True"
      ]
     },
     "execution_count": 13,
     "metadata": {},
     "output_type": "execute_result"
    }
   ],
   "source": [
    "c.isprintable()"
   ]
  },
  {
   "cell_type": "code",
   "execution_count": 14,
   "metadata": {},
   "outputs": [
    {
     "name": "stdout",
     "output_type": "stream",
     "text": [
      "\n",
      "\n"
     ]
    }
   ],
   "source": [
    "c1 = '\\n'\n",
    "print(c1)"
   ]
  },
  {
   "cell_type": "code",
   "execution_count": 15,
   "metadata": {},
   "outputs": [
    {
     "data": {
      "text/plain": [
       "False"
      ]
     },
     "execution_count": 15,
     "metadata": {},
     "output_type": "execute_result"
    }
   ],
   "source": [
    "c1.isprintable()"
   ]
  },
  {
   "cell_type": "code",
   "execution_count": 18,
   "metadata": {},
   "outputs": [
    {
     "data": {
      "text/plain": [
       "False"
      ]
     },
     "execution_count": 18,
     "metadata": {},
     "output_type": "execute_result"
    }
   ],
   "source": [
    "'man' == 'nam'"
   ]
  },
  {
   "cell_type": "code",
   "execution_count": 21,
   "metadata": {},
   "outputs": [
    {
     "data": {
      "text/plain": [
       "'h'"
      ]
     },
     "execution_count": 21,
     "metadata": {},
     "output_type": "execute_result"
    }
   ],
   "source": [
    "c[0]"
   ]
  },
  {
   "cell_type": "code",
   "execution_count": 20,
   "metadata": {},
   "outputs": [
    {
     "ename": "TypeError",
     "evalue": "'str' object does not support item assignment",
     "output_type": "error",
     "traceback": [
      "\u001b[0;31m---------------------------------------------------------------------------\u001b[0m",
      "\u001b[0;31mTypeError\u001b[0m                                 Traceback (most recent call last)",
      "\u001b[0;32m<ipython-input-20-322f26bd544a>\u001b[0m in \u001b[0;36m<module>\u001b[0;34m\u001b[0m\n\u001b[0;32m----> 1\u001b[0;31m \u001b[0mc\u001b[0m\u001b[0;34m[\u001b[0m\u001b[0;36m0\u001b[0m\u001b[0;34m]\u001b[0m \u001b[0;34m=\u001b[0m \u001b[0;34m'M'\u001b[0m\u001b[0;34m\u001b[0m\u001b[0;34m\u001b[0m\u001b[0m\n\u001b[0m",
      "\u001b[0;31mTypeError\u001b[0m: 'str' object does not support item assignment"
     ]
    }
   ],
   "source": [
    "c[0] = 'M'"
   ]
  },
  {
   "cell_type": "code",
   "execution_count": 22,
   "metadata": {},
   "outputs": [
    {
     "name": "stdout",
     "output_type": "stream",
     "text": [
      "Help on built-in function isalpha:\n",
      "\n",
      "isalpha() method of builtins.str instance\n",
      "    Return True if the string is an alphabetic string, False otherwise.\n",
      "    \n",
      "    A string is alphabetic if all characters in the string are alphabetic and there\n",
      "    is at least one character in the string.\n",
      "\n"
     ]
    }
   ],
   "source": [
    "help(c.isalpha)"
   ]
  },
  {
   "cell_type": "code",
   "execution_count": 23,
   "metadata": {},
   "outputs": [
    {
     "data": {
      "text/plain": [
       "False"
      ]
     },
     "execution_count": 23,
     "metadata": {},
     "output_type": "execute_result"
    }
   ],
   "source": [
    "c.isalpha()"
   ]
  },
  {
   "cell_type": "code",
   "execution_count": 24,
   "metadata": {},
   "outputs": [
    {
     "data": {
      "text/plain": [
       "'hello man'"
      ]
     },
     "execution_count": 24,
     "metadata": {},
     "output_type": "execute_result"
    }
   ],
   "source": [
    "c"
   ]
  },
  {
   "cell_type": "code",
   "execution_count": 26,
   "metadata": {},
   "outputs": [
    {
     "data": {
      "text/plain": [
       "True"
      ]
     },
     "execution_count": 26,
     "metadata": {},
     "output_type": "execute_result"
    }
   ],
   "source": [
    "c4 = 'helloman'\n",
    "c4.isalpha()"
   ]
  },
  {
   "cell_type": "code",
   "execution_count": 27,
   "metadata": {},
   "outputs": [
    {
     "data": {
      "text/plain": [
       "4"
      ]
     },
     "execution_count": 27,
     "metadata": {},
     "output_type": "execute_result"
    }
   ],
   "source": [
    "c4.find('om')"
   ]
  },
  {
   "cell_type": "code",
   "execution_count": 28,
   "metadata": {},
   "outputs": [],
   "source": [
    "c5 = 'हिन्दी'"
   ]
  },
  {
   "cell_type": "code",
   "execution_count": 29,
   "metadata": {},
   "outputs": [
    {
     "data": {
      "text/plain": [
       "97"
      ]
     },
     "execution_count": 29,
     "metadata": {},
     "output_type": "execute_result"
    }
   ],
   "source": [
    "ord('a')"
   ]
  },
  {
   "cell_type": "code",
   "execution_count": 30,
   "metadata": {},
   "outputs": [
    {
     "data": {
      "text/plain": [
       "2361"
      ]
     },
     "execution_count": 30,
     "metadata": {},
     "output_type": "execute_result"
    }
   ],
   "source": [
    "ord('ह')"
   ]
  },
  {
   "cell_type": "code",
   "execution_count": 31,
   "metadata": {},
   "outputs": [
    {
     "data": {
      "text/plain": [
       "'a'"
      ]
     },
     "execution_count": 31,
     "metadata": {},
     "output_type": "execute_result"
    }
   ],
   "source": [
    "chr(97)"
   ]
  },
  {
   "cell_type": "code",
   "execution_count": 33,
   "metadata": {},
   "outputs": [
    {
     "name": "stdout",
     "output_type": "stream",
     "text": [
      "ࣼ  -->   2300\n",
      "ࣽ  -->   2301\n",
      "ࣾ  -->   2302\n",
      "ࣿ  -->   2303\n",
      "ऀ  -->   2304\n",
      "ँ  -->   2305\n",
      "ं  -->   2306\n",
      "ः  -->   2307\n",
      "ऄ  -->   2308\n",
      "अ  -->   2309\n",
      "आ  -->   2310\n",
      "इ  -->   2311\n",
      "ई  -->   2312\n",
      "उ  -->   2313\n",
      "ऊ  -->   2314\n",
      "ऋ  -->   2315\n",
      "ऌ  -->   2316\n",
      "ऍ  -->   2317\n",
      "ऎ  -->   2318\n",
      "ए  -->   2319\n",
      "ऐ  -->   2320\n",
      "ऑ  -->   2321\n",
      "ऒ  -->   2322\n",
      "ओ  -->   2323\n",
      "औ  -->   2324\n",
      "क  -->   2325\n",
      "ख  -->   2326\n",
      "ग  -->   2327\n",
      "घ  -->   2328\n",
      "ङ  -->   2329\n",
      "च  -->   2330\n",
      "छ  -->   2331\n",
      "ज  -->   2332\n",
      "झ  -->   2333\n",
      "ञ  -->   2334\n",
      "ट  -->   2335\n",
      "ठ  -->   2336\n",
      "ड  -->   2337\n",
      "ढ  -->   2338\n",
      "ण  -->   2339\n",
      "त  -->   2340\n",
      "थ  -->   2341\n",
      "द  -->   2342\n",
      "ध  -->   2343\n",
      "न  -->   2344\n",
      "ऩ  -->   2345\n",
      "प  -->   2346\n",
      "फ  -->   2347\n",
      "ब  -->   2348\n",
      "भ  -->   2349\n",
      "म  -->   2350\n",
      "य  -->   2351\n",
      "र  -->   2352\n",
      "ऱ  -->   2353\n",
      "ल  -->   2354\n",
      "ळ  -->   2355\n",
      "ऴ  -->   2356\n",
      "व  -->   2357\n",
      "श  -->   2358\n",
      "ष  -->   2359\n",
      "स  -->   2360\n",
      "ह  -->   2361\n",
      "ऺ  -->   2362\n",
      "ऻ  -->   2363\n",
      "़  -->   2364\n",
      "ऽ  -->   2365\n",
      "ा  -->   2366\n",
      "ि  -->   2367\n",
      "ी  -->   2368\n",
      "ु  -->   2369\n",
      "ू  -->   2370\n",
      "ृ  -->   2371\n",
      "ॄ  -->   2372\n",
      "ॅ  -->   2373\n",
      "ॆ  -->   2374\n",
      "े  -->   2375\n",
      "ै  -->   2376\n",
      "ॉ  -->   2377\n",
      "ॊ  -->   2378\n",
      "ो  -->   2379\n",
      "ौ  -->   2380\n",
      "्  -->   2381\n",
      "ॎ  -->   2382\n",
      "ॏ  -->   2383\n",
      "ॐ  -->   2384\n",
      "॑  -->   2385\n",
      "॒  -->   2386\n",
      "॓  -->   2387\n",
      "॔  -->   2388\n",
      "ॕ  -->   2389\n",
      "ॖ  -->   2390\n",
      "ॗ  -->   2391\n",
      "क़  -->   2392\n",
      "ख़  -->   2393\n",
      "ग़  -->   2394\n",
      "ज़  -->   2395\n",
      "ड़  -->   2396\n",
      "ढ़  -->   2397\n",
      "फ़  -->   2398\n",
      "य़  -->   2399\n",
      "ॠ  -->   2400\n",
      "ॡ  -->   2401\n",
      "ॢ  -->   2402\n",
      "ॣ  -->   2403\n",
      "।  -->   2404\n",
      "॥  -->   2405\n",
      "०  -->   2406\n",
      "१  -->   2407\n",
      "२  -->   2408\n",
      "३  -->   2409\n",
      "४  -->   2410\n",
      "५  -->   2411\n",
      "६  -->   2412\n",
      "७  -->   2413\n",
      "८  -->   2414\n",
      "९  -->   2415\n",
      "॰  -->   2416\n",
      "ॱ  -->   2417\n",
      "ॲ  -->   2418\n",
      "ॳ  -->   2419\n",
      "ॴ  -->   2420\n",
      "ॵ  -->   2421\n",
      "ॶ  -->   2422\n",
      "ॷ  -->   2423\n",
      "ॸ  -->   2424\n",
      "ॹ  -->   2425\n",
      "ॺ  -->   2426\n",
      "ॻ  -->   2427\n",
      "ॼ  -->   2428\n",
      "ॽ  -->   2429\n",
      "ॾ  -->   2430\n",
      "ॿ  -->   2431\n",
      "ঀ  -->   2432\n",
      "ঁ  -->   2433\n",
      "ং  -->   2434\n",
      "ঃ  -->   2435\n",
      "঄  -->   2436\n",
      "অ  -->   2437\n",
      "আ  -->   2438\n",
      "ই  -->   2439\n",
      "ঈ  -->   2440\n",
      "উ  -->   2441\n",
      "ঊ  -->   2442\n",
      "ঋ  -->   2443\n",
      "ঌ  -->   2444\n",
      "঍  -->   2445\n",
      "঎  -->   2446\n",
      "এ  -->   2447\n",
      "ঐ  -->   2448\n",
      "঑  -->   2449\n",
      "঒  -->   2450\n",
      "ও  -->   2451\n",
      "ঔ  -->   2452\n",
      "ক  -->   2453\n",
      "খ  -->   2454\n",
      "গ  -->   2455\n",
      "ঘ  -->   2456\n",
      "ঙ  -->   2457\n",
      "চ  -->   2458\n",
      "ছ  -->   2459\n",
      "জ  -->   2460\n",
      "ঝ  -->   2461\n",
      "ঞ  -->   2462\n",
      "ট  -->   2463\n",
      "ঠ  -->   2464\n",
      "ড  -->   2465\n",
      "ঢ  -->   2466\n",
      "ণ  -->   2467\n",
      "ত  -->   2468\n",
      "থ  -->   2469\n",
      "দ  -->   2470\n",
      "ধ  -->   2471\n",
      "ন  -->   2472\n",
      "঩  -->   2473\n",
      "প  -->   2474\n",
      "ফ  -->   2475\n",
      "ব  -->   2476\n",
      "ভ  -->   2477\n",
      "ম  -->   2478\n",
      "য  -->   2479\n",
      "র  -->   2480\n",
      "঱  -->   2481\n",
      "ল  -->   2482\n",
      "঳  -->   2483\n",
      "঴  -->   2484\n",
      "঵  -->   2485\n",
      "শ  -->   2486\n",
      "ষ  -->   2487\n",
      "স  -->   2488\n",
      "হ  -->   2489\n",
      "঺  -->   2490\n",
      "঻  -->   2491\n",
      "়  -->   2492\n",
      "ঽ  -->   2493\n",
      "া  -->   2494\n",
      "ি  -->   2495\n",
      "ী  -->   2496\n",
      "ু  -->   2497\n",
      "ূ  -->   2498\n",
      "ৃ  -->   2499\n"
     ]
    }
   ],
   "source": [
    "for i in range(2300,2500):\n",
    "    print(chr(i),' -->  ',i)"
   ]
  },
  {
   "cell_type": "code",
   "execution_count": 35,
   "metadata": {},
   "outputs": [
    {
     "data": {
      "text/plain": [
       "b'\\xff\\xfeh\\x00e\\x00l\\x00l\\x00o\\x00 \\x00m\\x00a\\x00n\\x00'"
      ]
     },
     "execution_count": 35,
     "metadata": {},
     "output_type": "execute_result"
    }
   ],
   "source": [
    "c.encode('utf-16')"
   ]
  },
  {
   "cell_type": "markdown",
   "metadata": {},
   "source": [
    "Printing hi with ASCII hexadecimal char"
   ]
  },
  {
   "cell_type": "code",
   "execution_count": 36,
   "metadata": {},
   "outputs": [
    {
     "data": {
      "text/plain": [
       "104"
      ]
     },
     "execution_count": 36,
     "metadata": {},
     "output_type": "execute_result"
    }
   ],
   "source": [
    "ord('h')"
   ]
  },
  {
   "cell_type": "code",
   "execution_count": 37,
   "metadata": {},
   "outputs": [
    {
     "data": {
      "text/plain": [
       "'0x68'"
      ]
     },
     "execution_count": 37,
     "metadata": {},
     "output_type": "execute_result"
    }
   ],
   "source": [
    "hex(104)"
   ]
  },
  {
   "cell_type": "code",
   "execution_count": 38,
   "metadata": {},
   "outputs": [
    {
     "data": {
      "text/plain": [
       "'h'"
      ]
     },
     "execution_count": 38,
     "metadata": {},
     "output_type": "execute_result"
    }
   ],
   "source": [
    "'\\x68'"
   ]
  },
  {
   "cell_type": "code",
   "execution_count": 39,
   "metadata": {},
   "outputs": [
    {
     "data": {
      "text/plain": [
       "'0x69'"
      ]
     },
     "execution_count": 39,
     "metadata": {},
     "output_type": "execute_result"
    }
   ],
   "source": [
    "hex(ord('i'))"
   ]
  },
  {
   "cell_type": "code",
   "execution_count": 40,
   "metadata": {},
   "outputs": [
    {
     "data": {
      "text/plain": [
       "'i'"
      ]
     },
     "execution_count": 40,
     "metadata": {},
     "output_type": "execute_result"
    }
   ],
   "source": [
    "'\\x69'"
   ]
  },
  {
   "cell_type": "code",
   "execution_count": 41,
   "metadata": {},
   "outputs": [
    {
     "data": {
      "text/plain": [
       "'hi'"
      ]
     },
     "execution_count": 41,
     "metadata": {},
     "output_type": "execute_result"
    }
   ],
   "source": [
    "'\\x68\\x69'"
   ]
  },
  {
   "cell_type": "markdown",
   "metadata": {},
   "source": [
    "Printing hi with Unicode hexadecimal char"
   ]
  },
  {
   "cell_type": "code",
   "execution_count": 44,
   "metadata": {},
   "outputs": [
    {
     "data": {
      "text/plain": [
       "'hi'"
      ]
     },
     "execution_count": 44,
     "metadata": {},
     "output_type": "execute_result"
    }
   ],
   "source": [
    "# format \\uXXXX\n",
    "\n",
    "'\\u0068\\u0069'"
   ]
  },
  {
   "cell_type": "code",
   "execution_count": 47,
   "metadata": {},
   "outputs": [
    {
     "data": {
      "text/plain": [
       "b'\\xff\\xfeh\\x00e\\x00l\\x00l\\x00o\\x00 \\x00m\\x00a\\x00n\\x00'"
      ]
     },
     "execution_count": 47,
     "metadata": {},
     "output_type": "execute_result"
    }
   ],
   "source": [
    "e1 = c.encode('utf-16')\n",
    "e1"
   ]
  },
  {
   "cell_type": "code",
   "execution_count": 49,
   "metadata": {},
   "outputs": [
    {
     "data": {
      "text/plain": [
       "'hello man'"
      ]
     },
     "execution_count": 49,
     "metadata": {},
     "output_type": "execute_result"
    }
   ],
   "source": [
    "e1.decode('utf-16')"
   ]
  },
  {
   "cell_type": "raw",
   "metadata": {},
   "source": [
    "Types of Strings\n",
    "\n",
    "unicode (default) - u'hi' / 'hi'\n",
    "\n",
    "raw - r'hi'\n",
    "\n",
    "byte - b'hi'"
   ]
  },
  {
   "cell_type": "code",
   "execution_count": 52,
   "metadata": {},
   "outputs": [
    {
     "name": "stdout",
     "output_type": "stream",
     "text": [
      "hello\\nman\n"
     ]
    }
   ],
   "source": [
    "print(r'hello\\nman')"
   ]
  },
  {
   "cell_type": "code",
   "execution_count": 54,
   "metadata": {},
   "outputs": [
    {
     "data": {
      "text/plain": [
       "'C:\\\\Users\\\\Desktop'"
      ]
     },
     "execution_count": 54,
     "metadata": {},
     "output_type": "execute_result"
    }
   ],
   "source": [
    "r'C:\\Users\\Desktop'"
   ]
  },
  {
   "cell_type": "code",
   "execution_count": null,
   "metadata": {},
   "outputs": [],
   "source": []
  }
 ],
 "metadata": {
  "kernelspec": {
   "display_name": "Python 3",
   "language": "python",
   "name": "python3"
  },
  "language_info": {
   "codemirror_mode": {
    "name": "ipython",
    "version": 3
   },
   "file_extension": ".py",
   "mimetype": "text/x-python",
   "name": "python",
   "nbconvert_exporter": "python",
   "pygments_lexer": "ipython3",
   "version": "3.7.4"
  }
 },
 "nbformat": 4,
 "nbformat_minor": 2
}
